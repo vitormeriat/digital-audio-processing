{
 "cells": [
  {
   "cell_type": "markdown",
   "metadata": {},
   "source": [
    "<div style=\"background-color:#262626; text-align: center;\">\n",
    "<img src=\"https://fiapfunctions.blob.core.windows.net/datasets/capa.png\">\n",
    "</div>\n",
    "\n",
    "#  Word Error Rate (WER) \n",
    "\n",
    "O **WER** foi desenvolvido e é usado para verificar a precisão do mecanismo de reconhecimento de voz. Ele funciona calculando a distância entre os resultados do motor (chamados de hipótese), e o texto real (chamado de referência).\n",
    "\n",
    "[Levenshtein distance](https://en.wikipedia.org/wiki/Levenshtein_distance)\n",
    "\n",
    "A função de distância é baseada na distância de Levenshtein (para encontrar a distância de edição entre palavras). O WER, assim como a distância de Levenshtein, define a distância pela quantidade de operações mínimas que devem ser feitas para ir da referência à hipótese. Ao contrário da distância de Levenshtein, no entanto, as operações são em palavras e não em caracteres individuais. "
   ]
  },
  {
   "cell_type": "code",
   "execution_count": null,
   "metadata": {},
   "outputs": [],
   "source": [
    "def calculate_wer(reference, hypothesis):\n",
    "    \"\"\"\n",
    "        Calculation of WER with Levenshtein distance.\n",
    "        Works only for iterables up to 254 elements (uint8).\n",
    "        O(nm) time and space complexity.\n",
    "\n",
    "        >>> calculate_wer(\"who is there\".split(), \"is there\".split())\n",
    "        1\n",
    "        >>> calculate_wer(\"who is there\".split(), \"\".split())\n",
    "        3\n",
    "        >>> calculate_wer(\"\".split(), \"who is there\".split())\n",
    "        3\n",
    "    \"\"\"\n",
    "    # initialisation\n",
    "    import numpy\n",
    "    d = numpy.zeros((len(reference) + 1) * (len(hypothesis) + 1),\n",
    "                    dtype=numpy.uint8)\n",
    "    d = d.reshape((len(reference) + 1, len(hypothesis) + 1))\n",
    "    for i in range(len(reference) + 1):\n",
    "        for j in range(len(hypothesis) + 1):\n",
    "            if i == 0:\n",
    "                d[0][j] = j\n",
    "            elif j == 0:\n",
    "                d[i][0] = i\n",
    "\n",
    "    # computation\n",
    "    for i in range(1, len(reference) + 1):\n",
    "        for j in range(1, len(hypothesis) + 1):\n",
    "            if reference[i - 1] == hypothesis[j - 1]:\n",
    "                d[i][j] = d[i - 1][j - 1]\n",
    "            else:\n",
    "                substitution = d[i - 1][j - 1] + 1\n",
    "                insertion = d[i][j - 1] + 1\n",
    "                deletion = d[i - 1][j] + 1\n",
    "                d[i][j] = min(substitution, insertion, deletion)\n",
    "\n",
    "    return d[len(reference)][len(hypothesis)] / float(len(reference)) "
   ]
  },
  {
   "cell_type": "code",
   "execution_count": null,
   "metadata": {},
   "outputs": [],
   "source": [
    "ground_truth = \"i like monthy python what do you mean african or european swallow\"\n",
    "\n",
    "hypothesis = \"i like monthy python what do you african mean or european sawllow\""
   ]
  },
  {
   "cell_type": "code",
   "execution_count": null,
   "metadata": {},
   "outputs": [],
   "source": [
    "calculate_wer(ground_truth, hypothesis)"
   ]
  },
  {
   "cell_type": "code",
   "execution_count": null,
   "metadata": {},
   "outputs": [],
   "source": []
  }
 ],
 "metadata": {
  "kernelspec": {
   "display_name": "Python 3",
   "language": "python",
   "name": "python3"
  },
  "language_info": {
   "codemirror_mode": {
    "name": "ipython",
    "version": 3
   },
   "file_extension": ".py",
   "mimetype": "text/x-python",
   "name": "python",
   "nbconvert_exporter": "python",
   "pygments_lexer": "ipython3",
   "version": "3.8.5"
  }
 },
 "nbformat": 4,
 "nbformat_minor": 4
}
