{
 "cells": [
  {
   "cell_type": "markdown",
   "metadata": {},
   "source": [
    "<div style=\"background-color:#BFBEBE; text-align: center;\">\n",
    "<img src=\"imgs/icon.png\" style=\"width:600px\">\n",
    "</div>\n",
    "\n",
    "# Recording Audio"
   ]
  },
  {
   "cell_type": "code",
   "execution_count": null,
   "metadata": {},
   "outputs": [],
   "source": [
    "import sys\n",
    "import pyaudio\n",
    "import math\n",
    "import struct\n",
    "import time\n",
    "import wave"
   ]
  },
  {
   "cell_type": "code",
   "execution_count": null,
   "metadata": {},
   "outputs": [],
   "source": [
    "p = pyaudio.PyAudio()"
   ]
  },
  {
   "cell_type": "code",
   "execution_count": null,
   "metadata": {},
   "outputs": [],
   "source": [
    "def callback(in_data, frame_count, time_info, status):\n",
    "    floatLevels = []\n",
    "    for _i in range(1024):\n",
    "        floatLevels.append(struct.unpack('<h', in_data[_i:_i + 2])[0])\n",
    "    avgChunk = sum(floatLevels)/len(floatLevels)\n",
    "    print_audio_level(avgChunk, time_info['current_time'])\n",
    "    return (in_data, pyaudio.paContinue)\n",
    "\n",
    "\n",
    "time_difference = [0, 0]\n",
    "def print_audio_level(in_data, callback_time):\n",
    "    time_difference [1] = callback_time\n",
    "    if time_difference [1] - time_difference [0] > 0.1:\n",
    "        time_difference [0] = time_difference [1]\n",
    "        level = get_level_dB(in_data)\n",
    "        sys.stdout.write('Audio level' + str(level) + '\\r')\n",
    "        sys.stdout.flush()\n",
    "\n",
    "def get_level_dB(sample_value):\n",
    "    MAX_SAMPLE_VALUE = 32768\n",
    "    try:\n",
    "        level = (20 * math.log10(float(abs(sample_value)) / MAX_SAMPLE_VALUE))\n",
    "    except ValueError:\n",
    "        level = - 96.32\n",
    "    return int(level)"
   ]
  },
  {
   "cell_type": "code",
   "execution_count": null,
   "metadata": {},
   "outputs": [],
   "source": [
    "stream = p.open(format=pyaudio.paInt16,\n",
    "                channels=1,\n",
    "                rate=48000,\n",
    "                frames_per_buffer=1024,\n",
    "                input=True,\n",
    "                output=True,\n",
    "                stream_callback=callback)\n",
    "\n",
    "# Start the stream\n",
    "stream.start_stream()\n",
    "\n",
    "# Close the stream after 10 seconds\n",
    "time.sleep(10)\n",
    "\n",
    "stream.close()"
   ]
  },
  {
   "cell_type": "code",
   "execution_count": null,
   "metadata": {},
   "outputs": [],
   "source": [
    "form_1 = pyaudio.paInt16 # 16-bit resolution\n",
    "chans = 1 # 1 channel\n",
    "samp_rate = 44100 # 44.1kHz sampling rate\n",
    "chunk = 4096 # 2^12 samples for buffer\n",
    "record_secs = 5 # seconds to record\n",
    "dev_index = 2 # device index found by p.get_device_info_by_index(ii)\n",
    "wav_output_filename = 'output/myvoice.wav'\n",
    "\n",
    "audio = pyaudio.PyAudio() # create pyaudio instantiation\n",
    "\n",
    "# create pyaudio stream\n",
    "stream = audio.open(format=pyaudio.paInt16,\n",
    "                    channels=1,\n",
    "                    rate=samp_rate, \n",
    "                    #input_device_index=dev_index,\n",
    "                    input=True, \n",
    "                    frames_per_buffer=chunk)\n",
    "\n",
    "print(\"recording\")\n",
    "frames = []\n",
    "\n",
    "# loop through stream and append audio chunks to frame array\n",
    "for ii in range(0,int((samp_rate/chunk)*record_secs)):\n",
    "    data = stream.read(chunk)\n",
    "    frames.append(data)\n",
    "\n",
    "print(\"finished recording\")\n",
    "\n",
    "# stop the stream, close it, and terminate the pyaudio instantiation\n",
    "stream.stop_stream()\n",
    "stream.close()\n",
    "audio.terminate()\n",
    "\n",
    "# save the audio frames as .wav file\n",
    "wavefile = wave.open(wav_output_filename,'wb')\n",
    "wavefile.setnchannels(chans)\n",
    "wavefile.setsampwidth(audio.get_sample_size(form_1))\n",
    "wavefile.setframerate(samp_rate)\n",
    "wavefile.writeframes(b''.join(frames))\n",
    "wavefile.close()"
   ]
  },
  {
   "cell_type": "code",
   "execution_count": null,
   "metadata": {},
   "outputs": [],
   "source": []
  }
 ],
 "metadata": {
  "kernelspec": {
   "display_name": "Python 3",
   "language": "python",
   "name": "python3"
  },
  "language_info": {
   "codemirror_mode": {
    "name": "ipython",
    "version": 3
   },
   "file_extension": ".py",
   "mimetype": "text/x-python",
   "name": "python",
   "nbconvert_exporter": "python",
   "pygments_lexer": "ipython3",
   "version": "3.10.12"
  }
 },
 "nbformat": 4,
 "nbformat_minor": 4
}
